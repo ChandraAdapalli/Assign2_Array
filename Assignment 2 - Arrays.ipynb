{
 "cells": [
  {
   "cell_type": "code",
   "execution_count": 2,
   "id": "b1d97d42",
   "metadata": {},
   "outputs": [],
   "source": [
    "#Question 1\n",
    "#Given an integer array nums of 2n integers, group these integers into n pairs (a1, b1), (a2, b2),..., (an, bn) such that the sum of min(ai, bi) for all i is maximized. Return the maximized sum.\n",
    "\n",
    "#Example 1:\n",
    "#Input: nums = [1,4,3,2]\n",
    "#Output: 4"
   ]
  },
  {
   "cell_type": "code",
   "execution_count": 5,
   "id": "f83372cf",
   "metadata": {
    "scrolled": true
   },
   "outputs": [
    {
     "data": {
      "text/plain": [
       "'\\nSort the given array nums in ascending order.\\nInitialize a variable sum to 0.\\nIterate over the sorted array with a step size of 2 (i.e., increment the index by 2 in each iteration).\\nFor each iteration, add the smaller value of the current pair to the sum.\\nReturn the sum as the maximized sum.\\n'"
      ]
     },
     "execution_count": 5,
     "metadata": {},
     "output_type": "execute_result"
    }
   ],
   "source": [
    "\"\"\"\n",
    "Sort the given array nums in ascending order.\n",
    "Initialize a variable sum to 0.\n",
    "Iterate over the sorted array with a step size of 2 (i.e., increment the index by 2 in each iteration).\n",
    "For each iteration, add the smaller value of the current pair to the sum.\n",
    "Return the sum as the maximized sum.\n",
    "\"\"\""
   ]
  },
  {
   "cell_type": "code",
   "execution_count": 6,
   "id": "0c454699",
   "metadata": {},
   "outputs": [
    {
     "name": "stdout",
     "output_type": "stream",
     "text": [
      "4\n"
     ]
    }
   ],
   "source": [
    "def arrayPairSum(nums):\n",
    "    nums.sort()\n",
    "    sum = 0\n",
    "    for i in range(0, len(nums), 2):\n",
    "        sum += nums[i]\n",
    "    return sum\n",
    "\n",
    "# Example usage:\n",
    "nums = [1, 4, 3, 2]\n",
    "max_sum = arrayPairSum(nums)\n",
    "print(max_sum)\n"
   ]
  },
  {
   "cell_type": "code",
   "execution_count": null,
   "id": "c202df02",
   "metadata": {},
   "outputs": [],
   "source": [
    "Question 2\n",
    "Alice has n candies, where the ith candy is of type candyType[i]. Alice noticed that she started to gain weight, so she visited a doctor. \n",
    "\n",
    "The doctor advised Alice to only eat n / 2 of the candies she has (n is always even). Alice likes her candies very much, and she wants to eat the maximum number of different types of candies while still following the doctor's advice. \n",
    "\n",
    "Given the integer array candyType of length n, return the maximum number of different types of candies she can eat if she only eats n / 2 of them.\n",
    "\n",
    "Example 1:\n",
    "Input: candyType = [1,1,2,2,3,3]\n",
    "Output: 3"
   ]
  },
  {
   "cell_type": "code",
   "execution_count": null,
   "id": "79d15164",
   "metadata": {},
   "outputs": [],
   "source": [
    "Initialize an empty set called unique_candy_types to keep track of the unique candy types.\n",
    "Iterate over the elements in the candyType array.\n",
    "Add each candy type to the unique_candy_types set.\n",
    "Calculate the maximum number of different types of candies Alice can eat.\n",
    "Take the minimum of the size of unique_candy_types and n/2.\n",
    "Return the maximum number of different types of candies."
   ]
  },
  {
   "cell_type": "code",
   "execution_count": 7,
   "id": "1af0d748",
   "metadata": {},
   "outputs": [
    {
     "name": "stdout",
     "output_type": "stream",
     "text": [
      "3\n"
     ]
    }
   ],
   "source": [
    "#Python Code: \n",
    "\n",
    "def maxCandies(candyType):\n",
    "    unique_candy_types = set()\n",
    "    for candy in candyType:\n",
    "        unique_candy_types.add(candy)\n",
    "    \n",
    "    max_candies = min(len(unique_candy_types), len(candyType) // 2)\n",
    "    return max_candies\n",
    "\n",
    "# Example usage:\n",
    "candyType = [1, 1, 2, 2, 3, 3]\n",
    "max_types = maxCandies(candyType)\n",
    "print(max_types)\n"
   ]
  },
  {
   "cell_type": "code",
   "execution_count": null,
   "id": "90392305",
   "metadata": {},
   "outputs": [],
   "source": [
    "\"\"\"\n",
    "Question 3\n",
    "We define a harmonious array as an array where the difference between its maximum value\n",
    "and its minimum value is exactly 1.\n",
    "\n",
    "Given an integer array nums, return the length of its longest harmonious subsequence\n",
    "among all its possible subsequences.\n",
    "\n",
    "A subsequence of an array is a sequence that can be derived from the array by deleting some or no elements without changing the order of the remaining elements.\n",
    "\n",
    "Example 1:\n",
    "Input: nums = [1,3,2,2,5,2,3,7]\n",
    "Output: 5"
   ]
  },
  {
   "cell_type": "code",
   "execution_count": null,
   "id": "04ac7a16",
   "metadata": {},
   "outputs": [],
   "source": [
    "\"\"\"\n",
    "Algorithm:\n",
    "\n",
    "1. Initialize a dictionary, `freq`, to store the frequency of each number in the `nums` array.\n",
    "2. Iterate through each number in the `nums` array.\n",
    "   - If the number is not already in the `freq` dictionary, add it with a frequency of 1.\n",
    "   - If the number is already in the `freq` dictionary, increment its frequency by 1.\n",
    "3. Initialize a variable, `max_length`, to 0.\n",
    "4. Iterate through each number in the `freq` dictionary.\n",
    "   - If the current number + 1 exists in the `freq` dictionary, calculate the length of the harmonious subsequence starting with the current number.\n",
    "   - Update `max_length` if the length of the current subsequence is greater than `max_length`.\n",
    "5. Return `max_length` as the length of the longest harmonious subsequence.\n",
    "\n"
   ]
  },
  {
   "cell_type": "code",
   "execution_count": 8,
   "id": "9f753c3d",
   "metadata": {},
   "outputs": [
    {
     "name": "stdout",
     "output_type": "stream",
     "text": [
      "5\n"
     ]
    }
   ],
   "source": [
    "def findLHS(nums):\n",
    "    freq = {}\n",
    "    for num in nums:\n",
    "        freq[num] = freq.get(num, 0) + 1\n",
    "    \n",
    "    max_length = 0\n",
    "    for num in freq:\n",
    "        if num + 1 in freq:\n",
    "            length = freq[num] + freq[num + 1]\n",
    "            max_length = max(max_length, length)\n",
    "    \n",
    "    return max_length\n",
    "\n",
    "# Example usage:\n",
    "nums = [1, 3, 2, 2, 5, 2, 3, 7]\n",
    "longest_subsequence_length = findLHS(nums)\n",
    "print(longest_subsequence_length)\n"
   ]
  },
  {
   "cell_type": "code",
   "execution_count": null,
   "id": "4d3b09ec",
   "metadata": {},
   "outputs": [],
   "source": [
    "\"\"\"\"Question 4\n",
    "You have a long flowerbed in which some of the plots are planted, and some are not.\n",
    "However, flowers cannot be planted in adjacent plots.\n",
    "Given an integer array flowerbed containing 0's and 1's, where 0 means empty and 1 means not empty, and an integer n, return true if n new flowers can be planted in the flowerbed without violating the no-adjacent-flowers rule and false otherwise.\n",
    "\n",
    "Example 1:\n",
    "Input: flowerbed = [1,0,0,0,1], n = 1\n",
    "Output: true"
   ]
  },
  {
   "cell_type": "code",
   "execution_count": null,
   "id": "188f569d",
   "metadata": {},
   "outputs": [],
   "source": [
    "\"\"\"\"\n",
    "Algorithm:\n",
    "\n",
    "1. Initialize a variable `count` to 0 to keep track of the number of new flowers planted.\n",
    "2. Iterate through the `flowerbed` array.\n",
    "   - Check if the current plot is empty (0) and its adjacent plots (if any) are also empty or out of bounds.\n",
    "   - If the conditions are met, increment the `count` and mark the current plot as planted by setting it to 1.\n",
    "3. After the loop, check if the `count` is equal to or greater than the target number `n`.\n",
    "   - If so, return `True`.\n",
    "   - Otherwise, return `False`.\n"
   ]
  },
  {
   "cell_type": "code",
   "execution_count": 9,
   "id": "78ce1192",
   "metadata": {},
   "outputs": [
    {
     "name": "stdout",
     "output_type": "stream",
     "text": [
      "True\n"
     ]
    }
   ],
   "source": [
    "\n",
    "def canPlaceFlowers(flowerbed, n):\n",
    "    count = 0\n",
    "    for i in range(len(flowerbed)):\n",
    "        if flowerbed[i] == 0 and (i == 0 or flowerbed[i - 1] == 0) and (i == len(flowerbed) - 1 or flowerbed[i + 1] == 0):\n",
    "            count += 1\n",
    "            flowerbed[i] = 1\n",
    "            if count >= n:\n",
    "                return True\n",
    "    return False\n",
    "\n",
    "# Example usage:\n",
    "flowerbed = [1, 0, 0, 0, 1]\n",
    "n = 1\n",
    "can_plant = canPlaceFlowers(flowerbed, n)\n",
    "print(can_plant)\n"
   ]
  },
  {
   "cell_type": "code",
   "execution_count": null,
   "id": "5bde808e",
   "metadata": {},
   "outputs": [],
   "source": [
    "\"\"\"Question 5\n",
    "Given an integer array nums, find three numbers whose product is maximum and return the maximum product.\n",
    "\n",
    "Example 1:\n",
    "Input: nums = [1,2,3]\n",
    "Output: 6"
   ]
  },
  {
   "cell_type": "code",
   "execution_count": null,
   "id": "0eb218b5",
   "metadata": {},
   "outputs": [],
   "source": [
    "\"\"\"Algorithm:\n",
    "    \n",
    "1. Sort the given `nums` array in ascending order.\n",
    "2. Calculate the product of the three largest elements in the sorted array:\n",
    "   - Multiply the last three elements in the sorted array.\n",
    "3. Calculate the product of the two smallest elements (which may be negative) and the largest element:\n",
    "   - Multiply the first two elements (since they may be negative) with the last element in the sorted array.\n",
    "4. Return the maximum of the two products calculated in steps 2 and 3."
   ]
  },
  {
   "cell_type": "code",
   "execution_count": 1,
   "id": "66686308",
   "metadata": {},
   "outputs": [
    {
     "name": "stdout",
     "output_type": "stream",
     "text": [
      "6\n"
     ]
    }
   ],
   "source": [
    "def maximumProduct(nums):\n",
    "    nums.sort()\n",
    "    n = len(nums)\n",
    "    return max(nums[n-1] * nums[n-2] * nums[n-3], nums[0] * nums[1] * nums[n-1])\n",
    "\n",
    "nums = [1, 2, 3]\n",
    "max_product = maximumProduct(nums)\n",
    "print(max_product)"
   ]
  },
  {
   "cell_type": "code",
   "execution_count": null,
   "id": "befeb66e",
   "metadata": {},
   "outputs": [],
   "source": [
    "\"\"\"Question 6\n",
    "Given an array of integers nums which is sorted in ascending order, and an integer target,\n",
    "write a function to search target in nums. If target exists, then return its index. Otherwise,\n",
    "return -1.\n",
    "\n",
    "You must write an algorithm with O(log n) runtime complexity.\n",
    "\n",
    "Input: nums = [-1,0,3,5,9,12], target = 9\n",
    "Output: 4"
   ]
  },
  {
   "cell_type": "code",
   "execution_count": null,
   "id": "aa5490e5",
   "metadata": {},
   "outputs": [],
   "source": [
    "\"\"\"Initialize two pointers, left and right, to the start and end of the array respectively.\n",
    "While left is less than or equal to right:\n",
    "Calculate the middle index as mid by taking the average of left and right.\n",
    "If the value at index mid is equal to the target, return mid as the index of the target.\n",
    "If the value at index mid is greater than the target, update right to mid - 1 to search in the left half of the array.\n",
    "If the value at index mid is less than the target, update left to mid + 1 to search in the right half of the array.\n",
    "If the target is not found after the loop, return -1.\n"
   ]
  },
  {
   "cell_type": "code",
   "execution_count": 2,
   "id": "b9f79e24",
   "metadata": {},
   "outputs": [
    {
     "name": "stdout",
     "output_type": "stream",
     "text": [
      "4\n"
     ]
    }
   ],
   "source": [
    "def search(nums, target):\n",
    "    left = 0\n",
    "    right = len(nums) - 1\n",
    "    \n",
    "    while left <= right:\n",
    "        mid = (left + right) // 2\n",
    "        \n",
    "        if nums[mid] == target:\n",
    "            return mid\n",
    "        elif nums[mid] > target:\n",
    "            right = mid - 1\n",
    "        else:\n",
    "            left = mid + 1\n",
    "    \n",
    "    return -1\n",
    "\n",
    "nums = [-1, 0, 3, 5, 9, 12]\n",
    "target = 9\n",
    "index = search(nums, target)\n",
    "print(index)\n"
   ]
  },
  {
   "cell_type": "code",
   "execution_count": null,
   "id": "c732e105",
   "metadata": {},
   "outputs": [],
   "source": [
    "\"\"\"Question 7\n",
    "An array is monotonic if it is either monotone increasing or monotone decreasing.\n",
    "\n",
    "An array nums is monotone increasing if for all i <= j, nums[i] <= nums[j]. An array nums is\n",
    "monotone decreasing if for all i <= j, nums[i] >= nums[j].\n",
    "\n",
    "Given an integer array nums, return true if the given array is monotonic, or false otherwise.\n",
    "\n",
    "Example 1:\n",
    "Input: nums = [1,2,2,3]\n",
    "Output: true"
   ]
  },
  {
   "cell_type": "code",
   "execution_count": null,
   "id": "d5e3e506",
   "metadata": {},
   "outputs": [],
   "source": [
    "\"\"\"\"\n",
    "Initialize two variables, isIncreasing and isDecreasing, to True. These variables will track if the array is monotone increasing or monotone decreasing, respectively.\n",
    "\n",
    "Iterate through the nums array starting from the second element.\n",
    "\n",
    "Check if the current element is greater than the previous element. If so, update isDecreasing to False, indicating that the array is not monotone decreasing.\n",
    "\n",
    "Check if the current element is less than the previous element. If so, update isIncreasing to False, indicating that the array is not monotone increasing.\n",
    "\n",
    "If both isIncreasing and isDecreasing are False, return False, as the array is neither monotone increasing nor monotone decreasing.\n",
    "\n",
    "If the loop completes without returning False, return True, indicating that the array is monotonic.\n"
   ]
  },
  {
   "cell_type": "code",
   "execution_count": 3,
   "id": "522178dd",
   "metadata": {},
   "outputs": [
    {
     "name": "stdout",
     "output_type": "stream",
     "text": [
      "True\n"
     ]
    }
   ],
   "source": [
    "def isMonotonic(nums):\n",
    "    isIncreasing = True\n",
    "    isDecreasing = True\n",
    "    \n",
    "    for i in range(1, len(nums)):\n",
    "        if nums[i] > nums[i - 1]:\n",
    "            isDecreasing = False\n",
    "        if nums[i] < nums[i - 1]:\n",
    "            isIncreasing = False\n",
    "        if not isIncreasing and not isDecreasing:\n",
    "            return False\n",
    "    \n",
    "    return True\n",
    "\n",
    "nums = [1, 2, 2, 3]\n",
    "is_monotonic = isMonotonic(nums)\n",
    "print(is_monotonic)\n"
   ]
  },
  {
   "cell_type": "code",
   "execution_count": null,
   "id": "6a33c10e",
   "metadata": {},
   "outputs": [],
   "source": [
    "\"\"\"\n",
    "Question 8:\n",
    "\n",
    "You are given an integer array nums and an integer k.\n",
    "\n",
    "In one operation, you can choose any index i where 0 <= i < nums.length and change nums[i] to nums[i] + x where x is an integer from the range [-k, k]. You can apply this operation at most once for each index i.\n",
    "\n",
    "The score of nums is the difference between the maximum and minimum elements in nums.\n",
    "\n",
    "Return the minimum score of nums after applying the mentioned operation at most once for each index in it.\n",
    "\n",
    "Example 1:\n",
    "Input: nums = [1], k = 0\n",
    "Output: 0"
   ]
  },
  {
   "cell_type": "code",
   "execution_count": null,
   "id": "4fccde73",
   "metadata": {},
   "outputs": [],
   "source": [
    "\"\"\"\n",
    "Algorithm :\n",
    "\n",
    "1. Initialize two variables, `max_val` and `min_val`, with the maximum and minimum values in the `nums` array, respectively.\n",
    "2. If the difference between `max_val` and `min_val` is less than or equal to 2 * `k`, return 0 as the minimum score can't be lower than 0.\n",
    "3. Otherwise, calculate the potential minimum scores by applying the operation to the maximum and minimum values:\n",
    "   - Update `max_val` to `max_val - k`.\n",
    "   - Update `min_val` to `min_val + k`.\n",
    "4. Return the difference between the updated `max_val` and `min_val` as the minimum score.\n"
   ]
  },
  {
   "cell_type": "code",
   "execution_count": 4,
   "id": "cbdebe00",
   "metadata": {},
   "outputs": [
    {
     "name": "stdout",
     "output_type": "stream",
     "text": [
      "0\n"
     ]
    }
   ],
   "source": [
    "def minimumScore(nums, k):\n",
    "    max_val = max(nums)\n",
    "    min_val = min(nums)\n",
    "    \n",
    "    if max_val - min_val <= 2 * k:\n",
    "        return 0\n",
    "    \n",
    "    max_val -= k\n",
    "    min_val += k\n",
    "    \n",
    "    return max_val - min_val\n",
    "\n",
    "# Example usage:\n",
    "nums = [1]\n",
    "k = 0\n",
    "min_score = minimumScore(nums, k)\n",
    "print(min_score)"
   ]
  },
  {
   "cell_type": "code",
   "execution_count": null,
   "id": "2a3f3510",
   "metadata": {},
   "outputs": [],
   "source": []
  }
 ],
 "metadata": {
  "kernelspec": {
   "display_name": "Python 3 (ipykernel)",
   "language": "python",
   "name": "python3"
  },
  "language_info": {
   "codemirror_mode": {
    "name": "ipython",
    "version": 3
   },
   "file_extension": ".py",
   "mimetype": "text/x-python",
   "name": "python",
   "nbconvert_exporter": "python",
   "pygments_lexer": "ipython3",
   "version": "3.9.13"
  }
 },
 "nbformat": 4,
 "nbformat_minor": 5
}
